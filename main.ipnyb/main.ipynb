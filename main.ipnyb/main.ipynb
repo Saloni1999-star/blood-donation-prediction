{
 "cells": [
  {
   "cell_type": "code",
   "execution_count": 80,
   "id": "5c02b8d1",
   "metadata": {},
   "outputs": [],
   "source": [
    "import pandas as pd\n",
    "import numpy as np\n",
    "from sklearn.model_selection import train_test_split\n",
    "from sklearn.linear_model import LogisticRegression\n",
    "from tpot import TPOTClassifier\n",
    "from sklearn.metrics import accuracy_score, confusion_matrix, classification_report\n",
    "import matplotlib.pyplot as plt\n",
    "import seaborn as sns\n",
    "import warnings\n",
    "import joblib # Added joblib for saving the model later\n",
    "\n",
    "warnings.filterwarnings(\"ignore\")"
   ]
  },
  {
   "cell_type": "code",
   "execution_count": 81,
   "id": "22dd4afc",
   "metadata": {},
   "outputs": [
    {
     "name": "stdout",
     "output_type": "stream",
     "text": [
      "Data loaded successfully from: ../transfusion.csv\n",
      "\n",
      "First 5 rows of the dataset:\n",
      "   Recency (months)  Frequency (times)  Monetary (c.c. blood)  Time (months)  \\\n",
      "0                 2                 50                  12500             98   \n",
      "1                 0                 13                   3250             28   \n",
      "2                 1                 16                   4000             35   \n",
      "3                 2                 20                   5000             45   \n",
      "4                 1                 24                   6000             77   \n",
      "\n",
      "   whether he/she donated blood in March 2007  \n",
      "0                                           1  \n",
      "1                                           1  \n",
      "2                                           1  \n",
      "3                                           1  \n",
      "4                                           0  \n",
      "\n",
      "Dataset Info:\n",
      "<class 'pandas.core.frame.DataFrame'>\n",
      "RangeIndex: 748 entries, 0 to 747\n",
      "Data columns (total 5 columns):\n",
      " #   Column                                      Non-Null Count  Dtype\n",
      "---  ------                                      --------------  -----\n",
      " 0   Recency (months)                            748 non-null    int64\n",
      " 1   Frequency (times)                           748 non-null    int64\n",
      " 2   Monetary (c.c. blood)                       748 non-null    int64\n",
      " 3   Time (months)                               748 non-null    int64\n",
      " 4   whether he/she donated blood in March 2007  748 non-null    int64\n",
      "dtypes: int64(5)\n",
      "memory usage: 29.3 KB\n"
     ]
    }
   ],
   "source": [
    "data = pd.read_csv(file_path)\n",
    "print(f\"Data loaded successfully from: {file_path}\")\n",
    "print(\"\\nFirst 5 rows of the dataset:\")\n",
    "print(data.head())\n",
    "print(\"\\nDataset Info:\")\n",
    "data.info()\n"
   ]
  },
  {
   "cell_type": "code",
   "execution_count": 82,
   "id": "c20b3511",
   "metadata": {
    "vscode": {
     "languageId": "markdown"
    }
   },
   "outputs": [],
   "source": [
    "X = data.drop(columns=[\"whether he/she donated blood in March 2007\"])\n",
    "y = data[\"whether he/she donated blood in March 2007\"]\n",
    "\n",
    "from sklearn.model_selection import train_test_split\n",
    "X_train, X_test, y_train, y_test = train_test_split(X, y, test_size=0.2, random_state=42)"
   ]
  },
  {
   "cell_type": "code",
   "execution_count": 83,
   "id": "91f6c20c",
   "metadata": {
    "vscode": {
     "languageId": "markdown"
    }
   },
   "outputs": [
    {
     "name": "stdout",
     "output_type": "stream",
     "text": [
      "\n",
      "Data split into training and test sets.\n",
      "X_train shape: (598, 4), y_train shape: (598,)\n",
      "X_test shape: (150, 4), y_test shape: (150,)\n"
     ]
    }
   ],
   "source": [
    "# Order 2: Select features and target & Split into train and test sets\n",
    "X = data.drop(columns=[\"whether he/she donated blood in March 2007\"])\n",
    "y = data[\"whether he/she donated blood in March 2007\"]\n",
    "\n",
    "X_train, X_test, y_train, y_test = train_test_split(X, y, test_size=0.2, random_state=42)\n",
    "print(\"\\nData split into training and test sets.\")\n",
    "print(f\"X_train shape: {X_train.shape}, y_train shape: {y_train.shape}\")\n",
    "print(f\"X_test shape: {X_test.shape}, y_test shape: {y_test.shape}\")"
   ]
  },
  {
   "cell_type": "code",
   "execution_count": 84,
   "id": "635c01c1",
   "metadata": {
    "vscode": {
     "languageId": "markdown"
    }
   },
   "outputs": [
    {
     "name": "stdout",
     "output_type": "stream",
     "text": [
      "\n",
      "--- Training Logistic Regression Model ---\n",
      "Logistic Regression Test set accuracy: 0.66\n"
     ]
    }
   ],
   "source": [
    "# Order 3: Train a logistic regression model with class_weight balanced\n",
    "print(\"\\n--- Training Logistic Regression Model ---\")\n",
    "model = LogisticRegression(random_state=42, solver='liblinear', class_weight='balanced')\n",
    "model.fit(X_train, y_train)\n",
    "\n",
    "# Predict on the test set\n",
    "y_pred = model.predict(X_test)\n",
    "\n",
    "# Evaluate Logistic Regression Model Performance\n",
    "accuracy = accuracy_score(y_test, y_pred)\n",
    "print(f\"Logistic Regression Test set accuracy: {accuracy:.2f}\")"
   ]
  },
  {
   "cell_type": "code",
   "execution_count": 85,
   "id": "6b2505b4",
   "metadata": {
    "vscode": {
     "languageId": "markdown"
    }
   },
   "outputs": [
    {
     "name": "stdout",
     "output_type": "stream",
     "text": [
      "\n",
      "Logistic Regression Confusion Matrix:\n",
      "[[72 41]\n",
      " [10 27]]\n",
      "\n",
      "Logistic Regression Classification Report:\n",
      "              precision    recall  f1-score   support\n",
      "\n",
      "           0       0.88      0.64      0.74       113\n",
      "           1       0.40      0.73      0.51        37\n",
      "\n",
      "    accuracy                           0.66       150\n",
      "   macro avg       0.64      0.68      0.63       150\n",
      "weighted avg       0.76      0.66      0.68       150\n",
      "\n"
     ]
    }
   ],
   "source": [
    "# Confusion matrix for LR\n",
    "cm_lr = confusion_matrix(y_test, y_pred)\n",
    "print(\"\\nLogistic Regression Confusion Matrix:\")\n",
    "print(cm_lr)\n",
    "# Classification report for LR\n",
    "print(\"\\nLogistic Regression Classification Report:\")\n",
    "print(classification_report(y_test, y_pred))  # This was duplicated in your last chunk, keeping one."
   ]
  },
  {
   "cell_type": "code",
   "execution_count": 86,
   "id": "5d62e74a",
   "metadata": {
    "vscode": {
     "languageId": "markdown"
    }
   },
   "outputs": [
    {
     "data": {
      "image/png": "[encoded data removed]",
      "text/plain": [
       "<Figure size 600x500 with 2 Axes>"
      ]
     },
     "metadata": {},
     "output_type": "display_data"
    }
   ],
   "source": [
    "# Visualize LR Confusion Matrix (from your snippet)\n",
    "plt.figure(figsize=(6,5))\n",
    "sns.heatmap(cm_lr, annot=True, fmt='d', cmap='Blues', xticklabels=['No', 'Yes'], yticklabels=['No', 'Yes'])\n",
    "plt.xlabel('Predicted')\n",
    "plt.ylabel('Actual')\n",
    "plt.title('Logistic Regression Confusion Matrix')\n",
    "plt.show()"
   ]
  },
  {
   "cell_type": "code",
   "execution_count": 87,
   "id": "eef7e186",
   "metadata": {
    "vscode": {
     "languageId": "markdown"
    }
   },
   "outputs": [
    {
     "name": "stdout",
     "output_type": "stream",
     "text": [
      "\n",
      "Logistic Regression Coefficients:\n",
      "Recency (months): -0.0894\n",
      "Frequency (times): 0.0000\n",
      "Monetary (c.c. blood): 0.0006\n",
      "Time (months): -0.0238\n"
     ]
    }
   ],
   "source": [
    "# Feature Coefficients and Visualization for LR (from your snippet)\n",
    "feature_names = X.columns\n",
    "coefficients = model.coef_[0]\n",
    "print(\"\\nLogistic Regression Coefficients:\")\n",
    "for name, coef in zip(feature_names, coefficients):\n",
    "    print(f\"{name}: {coef:.4f}\")"
   ]
  },
  {
   "cell_type": "code",
   "execution_count": 88,
   "id": "5064c91f",
   "metadata": {
    "vscode": {
     "languageId": "markdown"
    }
   },
   "outputs": [
    {
     "data": {
      "image/png": "[encoded data removed]",
      "text/plain": [
       "<Figure size 700x500 with 1 Axes>"
      ]
     },
     "metadata": {},
     "output_type": "display_data"
    }
   ],
   "source": [
    "plt.figure(figsize=(7,5))\n",
    "plt.bar(feature_names, coefficients, color='skyblue')\n",
    "plt.xlabel('Feature')\n",
    "plt.ylabel('Coefficient Value')\n",
    "plt.title('Logistic Regression Coefficients')\n",
    "plt.xticks(rotation=45, ha='right')\n",
    "plt.tight_layout()\n",
    "plt.show()"
   ]
  },
  {
   "cell_type": "code",
   "execution_count": 89,
   "id": "eaa2e4f9",
   "metadata": {
    "vscode": {
     "languageId": "markdown"
    }
   },
   "outputs": [
    {
     "name": "stdout",
     "output_type": "stream",
     "text": [
      "\n",
      "--- Training TPOT Classifier (This may take some time) ---\n",
      "is_classifier\n",
      "is_regressor\n",
      "is_classifier\n",
      "is_regressor\n",
      "is_classifier\n",
      "is_regressor\n",
      "is_classifier\n",
      "is_classifier\n",
      "is_classifier\n",
      "is_classifier\n",
      "is_regressor\n",
      "is_classifier\n",
      "is_regressor\n",
      "is_classifier\n",
      "is_regressor\n",
      "is_classifier\n",
      "is_regressor\n",
      "is_classifier\n",
      "is_regressor\n",
      "is_classifier\n",
      "is_regressor\n",
      "is_classifier\n",
      "is_regressor\n",
      "is_classifier\n",
      "is_classifier\n",
      "is_classifier\n",
      "is_classifier\n",
      "is_classifier\n",
      "is_classifier\n",
      "is_classifier\n",
      "is_classifier\n",
      "is_regressor\n",
      "is_classifier\n",
      "is_regressor\n",
      "is_classifier\n",
      "is_regressor\n",
      "is_classifier\n",
      "is_regressor\n",
      "is_classifier\n",
      "is_regressor\n",
      "is_classifier\n",
      "is_regressor\n",
      "is_classifier\n",
      "is_regressor\n",
      "is_classifier\n",
      "is_classifier\n",
      "is_classifier\n",
      "is_regressor\n",
      "is_classifier\n",
      "is_regressor\n",
      "is_classifier\n"
     ]
    },
    {
     "name": "stderr",
     "output_type": "stream",
     "text": [
      "Version 0.12.2 of tpot is outdated. Version 1.0.0 was released Wednesday February 26, 2025.\n"
     ]
    },
    {
     "name": "stdout",
     "output_type": "stream",
     "text": [
      "                                                                             \n",
      "Generation 1 - Current best internal CV score: 0.7900773696293543\n",
      "                                                                             \n",
      "Generation 2 - Current best internal CV score: 0.7900773696293543\n",
      "                                                                             \n",
      "Generation 3 - Current best internal CV score: 0.7900773696293543\n",
      "                                                                              \n",
      "Generation 4 - Current best internal CV score: 0.7900773696293543\n",
      "                                                                              \n",
      "Generation 5 - Current best internal CV score: 0.7900773696293543\n",
      "                                                                              \n",
      "Best pipeline: MLPClassifier(RobustScaler(input_matrix), alpha=0.0001, learning_rate_init=0.01)\n",
      "\n",
      "TPOT test accuracy: 0.70\n"
     ]
    }
   ],
   "source": [
    "# Train and Evaluate TPOT Classifier (from your snippet)\n",
    "print(\"\\n--- Training TPOT Classifier (This may take some time) ---\")\n",
    "tpot = TPOTClassifier(generations=5, population_size=20, verbosity=2, random_state=42, scoring='f1_weighted', cv=5)\n",
    "# Added scoring='f1_weighted' and cv=5 for better handling of imbalanced data\n",
    "# Verbosity=2 will show progress during training\n",
    "tpot.fit(X_train, y_train)\n",
    "\n",
    "print(f\"\\nTPOT test accuracy: {tpot.score(X_test, y_test):.2f}\")"
   ]
  },
  {
   "cell_type": "code",
   "execution_count": 90,
   "id": "f0486b7b",
   "metadata": {
    "vscode": {
     "languageId": "markdown"
    }
   },
   "outputs": [],
   "source": [
    "# Evaluate TPOT's best model (from your snippet)\n",
    "y_pred_tpot = tpot.predict(X_test)"
   ]
  },
  {
   "cell_type": "code",
   "execution_count": 91,
   "id": "f0f88409",
   "metadata": {
    "vscode": {
     "languageId": "markdown"
    }
   },
   "outputs": [
    {
     "name": "stdout",
     "output_type": "stream",
     "text": [
      "\n",
      "TPOT Confusion Matrix:\n",
      "[[105   8]\n",
      " [ 30   7]]\n"
     ]
    }
   ],
   "source": [
    "    print(\"\\nTPOT Confusion Matrix:\")\n",
    "    cm_tpot = confusion_matrix(y_test, y_pred_tpot)\n",
    "    print(cm_tpot)\n"
   ]
  },
  {
   "cell_type": "code",
   "execution_count": 92,
   "id": "a8d5e3ec",
   "metadata": {
    "vscode": {
     "languageId": "markdown"
    }
   },
   "outputs": [
    {
     "name": "stdout",
     "output_type": "stream",
     "text": [
      "\n",
      "TPOT Classification Report:\n",
      "              precision    recall  f1-score   support\n",
      "\n",
      "           0       0.78      0.93      0.85       113\n",
      "           1       0.47      0.19      0.27        37\n",
      "\n",
      "    accuracy                           0.75       150\n",
      "   macro avg       0.62      0.56      0.56       150\n",
      "weighted avg       0.70      0.75      0.70       150\n",
      "\n"
     ]
    }
   ],
   "source": [
    "print(\"\\nTPOT Classification Report:\")\n",
    "print(classification_report(y_test, y_pred_tpot))"
   ]
  },
  {
   "cell_type": "code",
   "execution_count": 93,
   "id": "be23e6ad",
   "metadata": {
    "vscode": {
     "languageId": "markdown"
    }
   },
   "outputs": [
    {
     "data": {
      "image/png": "[encoded data removed]",
      "text/plain": [
       "<Figure size 600x500 with 2 Axes>"
      ]
     },
     "metadata": {},
     "output_type": "display_data"
    }
   ],
   "source": [
    "# Visualize TPOT Confusion Matrix\n",
    "plt.figure(figsize=(6,5))\n",
    "sns.heatmap(cm_tpot, annot=True, fmt='d', cmap='Greens', xticklabels=['No', 'Yes'], yticklabels=['No', 'Yes'])\n",
    "plt.xlabel('Predicted')\n",
    "plt.ylabel('Actual')\n",
    "plt.title('TPOT Confusion Matrix')\n",
    "plt.show()"
   ]
  },
  {
   "cell_type": "code",
   "execution_count": 94,
   "metadata": {
    "vscode": {
     "languageId": "markdown"
    }
   },
   "outputs": [
    {
     "name": "stdout",
     "output_type": "stream",
     "text": [
      "\n",
      "Best pipeline found by TPOT:\n",
      "Pipeline(steps=[('robustscaler', RobustScaler()),\n",
      "                ('mlpclassifier',\n",
      "                 MLPClassifier(learning_rate_init=0.01, random_state=42))])\n"
     ]
    }
   ],
   "source": [
    "# Print TPOT's best pipeline\n",
    "print(\"\\nBest pipeline found by TPOT:\")\n",
    "print(tpot.fitted_pipeline_)"
   ]
  },
  {
   "cell_type": "code",
   "execution_count": 95,
   "id": "7812d079",
   "metadata": {
    "vscode": {
     "languageId": "markdown"
    }
   },
   "outputs": [
    {
     "name": "stdout",
     "output_type": "stream",
     "text": [
      "\n",
      "Logistic Regression model saved as 'logistic_regression_model.pkl'\n"
     ]
    }
   ],
   "source": [
    "# Save the Logistic Regression model (from your snippet)\n",
    "# Consider saving TPOT's best pipeline too if it performs better\n",
    "joblib.dump(model, 'logistic_regression_model.pkl')\n",
    "print(\"\\nLogistic Regression model saved as 'logistic_regression_model.pkl'\")"
   ]
  },
  {
   "cell_type": "code",
   "execution_count": 96,
   "id": "de72b23b",
   "metadata": {
    "vscode": {
     "languageId": "markdown"
    }
   },
   "outputs": [],
   "source": [
    "# tpot.export('tpot_best_pipeline.py')\n",
    "# print(\"TPOT best pipeline exported as 'tpot_best_pipeline.py'\")"
   ]
  },
  {
   "cell_type": "code",
   "execution_count": 97,
   "id": "46c5643c",
   "metadata": {
    "vscode": {
     "languageId": "markdown"
    }
   },
   "outputs": [
    {
     "name": "stdout",
     "output_type": "stream",
     "text": [
      "Model loaded successfully!\n"
     ]
    }
   ],
   "source": [
    "loaded_model = joblib.load('logistic_regression_model.pkl')\n",
    "print(\"Model loaded successfully!\")"
   ]
  },
  {
   "cell_type": "code",
   "execution_count": 98,
   "id": "b2424333",
   "metadata": {
    "vscode": {
     "languageId": "markdown"
    }
   },
   "outputs": [],
   "source": [
    "# Example of new data (ensure the order of features matches training order)\n",
    "# Assuming features are: 'Recency', 'Frequency', 'Monetary', 'Time'\n",
    "# Example: a donor who donated 3 months ago, 10 times, 2500 c.c., and first donation was 60 months ago\n",
    "new_donor_data = pd.DataFrame([[3, 10, 2500, 60]], columns=X.columns)  # Use X.columns to ensure correct feature names"
   ]
  },
  {
   "cell_type": "code",
   "execution_count": 99,
   "id": "2d0730b7",
   "metadata": {
    "vscode": {
     "languageId": "markdown"
    }
   },
   "outputs": [
    {
     "name": "stdout",
     "output_type": "stream",
     "text": [
      "\n",
      "Prediction for new donor (0=No, 1=Yes): 1\n",
      "Probability of not donating (0): 0.4136\n",
      "Probability of donating (1): 0.5864\n"
     ]
    }
   ],
   "source": [
    "# Make a prediction\n",
    "prediction = loaded_model.predict(new_donor_data)\n",
    "prediction_proba = loaded_model.predict_proba(new_donor_data)  # Get probabilities\n",
    "\n",
    "print(f\"\\nPrediction for new donor (0=No, 1=Yes): {prediction[0]}\")\n",
    "print(f\"Probability of not donating (0): {prediction_proba[0][0]:.4f}\")\n",
    "print(f\"Probability of donating (1): {prediction_proba[0][1]:.4f}\")"
   ]
  }
 ],
 "metadata": {
  "kernelspec": {
   "display_name": "Python 3",
   "language": "python",
   "name": "python3"
  },
  "language_info": {
   "codemirror_mode": {
    "name": "ipython",
    "version": 3
   },
   "file_extension": ".py",
   "mimetype": "text/x-python",
   "name": "python",
   "nbconvert_exporter": "python",
   "pygments_lexer": "ipython3",
   "version": "3.12.1"
  }
 },
 "nbformat": 4,
 "nbformat_minor": 5
}
