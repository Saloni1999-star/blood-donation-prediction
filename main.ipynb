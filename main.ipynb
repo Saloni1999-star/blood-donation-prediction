import pandas as pd
import numpy as np
from sklearn.model_selection import train_test_split
from sklearn.linear_model import LogisticRegression
from tpot import TPOTClassifier
from sklearn.metrics import accuracy_score
import warnings
warnings.filterwarnings("ignore")
+
df = pd.read_csv('C:/Users/Saloni Dhiman/Desktop/transfusion.csv')
df.head()
